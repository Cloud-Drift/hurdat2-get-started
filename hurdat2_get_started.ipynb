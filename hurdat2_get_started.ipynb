{
 "cells": [
  {
   "cell_type": "markdown",
   "metadata": {},
   "source": [
    "# Overview\n",
    "In the following example we will walk through how we can leverage the `clouddrift` library to do something interesting with the HURDAT2 dataset. Simply put, the HURDAT2 dataset is a dataset that contains storm track data (including other measurements such as pressure, wind speed, etc...) for storms recorded from 1852 - 2022 across both the pacific and atlantic ocean.\n",
    "\n",
    "To get things in motion lets import the `adapters` module from clouddrift and load the dataset into the `ds` variable\n",
    "\n",
    "\n",
    "We convert the ragged array into an xarray `Dataset` to leverage some of the powerful \n",
    "subsetting utilities provided by the data structure that helps power the `subset` function."
   ]
  },
  {
   "cell_type": "code",
   "execution_count": null,
   "metadata": {},
   "outputs": [],
   "source": [
    "from clouddrift import adapters\n",
    "ds = adapters.hurdat2.to_raggedarray().to_xarray()"
   ]
  },
  {
   "cell_type": "markdown",
   "metadata": {},
   "source": [
    "Now lets say that we'd like to select a specific subset of this dataset; we can leverage the `subset` utility function provided through the `ragged` module which contains a library of helpful utility functions for working with the `RaggedArray` data structure. As an example say you wanted a subset of the dataset for storms whose track lied within the atlantic basin and was tracked between August and October of 2020. You can leverage the `subset` function by first defining the criteria:"
   ]
  },
  {
   "cell_type": "code",
   "execution_count": null,
   "metadata": {},
   "outputs": [],
   "source": [
    "# import some helpful libraries\n",
    "import numpy as np\n",
    "from datetime import datetime\n",
    "\n",
    "# define the critieria\n",
    "# Here the datasets variables are mapped to an (inclusive start and end) range\n",
    "criteria = dict(\n",
    "    lat=(10, 50),\n",
    "    lon=(-80, -20), \n",
    "    time=(\n",
    "        np.float64(datetime(2020, 8, 1).timestamp()), \n",
    "        np.float64(datetime(2020, 10, 1).timestamp())\n",
    "    )\n",
    ")"
   ]
  },
  {
   "cell_type": "markdown",
   "metadata": {},
   "source": [
    "Lets import the function and apply the criteria to the dataset. \n",
    "\n",
    "Here we need to provide the row dimensions alias which is `traj` in the hurdat2 dataset."
   ]
  },
  {
   "cell_type": "code",
   "execution_count": null,
   "metadata": {},
   "outputs": [],
   "source": [
    "from clouddrift.ragged import subset\n",
    "\n",
    "subset_ds = subset(ds, criteria, row_dim_name=\"traj\")"
   ]
  },
  {
   "cell_type": "markdown",
   "metadata": {},
   "source": [
    "Now that we have the subset we want, lets display the tracks we have left after the operation to see the tracks of storms in 2020s hurricane season."
   ]
  },
  {
   "cell_type": "code",
   "execution_count": null,
   "metadata": {},
   "outputs": [],
   "source": [
    "# Import some helpful plotting libraries\n",
    "import cartopy.crs as ccrs  # cartopy for projecting our dataset onto different map projections\n",
    "import matplotlib.pyplot as plt # is an standard plotting library\n",
    "\n",
    "# Lets display the projection to see what it looks like\n",
    "ax = plt.axes(projection=ccrs.PlateCarree())\n",
    "ax.coastlines()"
   ]
  },
  {
   "cell_type": "markdown",
   "metadata": {},
   "source": [
    "Now lets grab our dataset `subset_ds` and process it to plot each track"
   ]
  },
  {
   "cell_type": "code",
   "execution_count": null,
   "metadata": {},
   "outputs": [],
   "source": [
    "# Lets generate an array identifying the start and end index of each trajectories segment on the RaggedArray \n",
    "obs_ranges = np.cumsum(np.array([0, *subset_ds[\"rowsize\"]]))\n",
    "\n",
    "# Retrieve all of the ids\n",
    "traj_ids = subset_ds[\"id\"].to_numpy().tolist()\n",
    "\n",
    "# Go through each of them\n",
    "for traj_id in traj_ids:\n",
    "    index = traj_ids.index(traj_id) # Use position to determine start index\n",
    "    start, end = obs_ranges[index], obs_ranges[index+1] # the end is determines by the start of the next index\n",
    "    selected = slice(start, end) # create a slice to be used for selecting segments of a variable\n",
    "    \n",
    "    # Select the trajectories segments on the longitude and latitude variables and plot them!\n",
    "    plt.plot(\n",
    "        subset_ds[\"lon\"].isel(obs=selected), subset_ds[\"lat\"].isel(obs=selected),\n",
    "        linestyle=\"-\", ms=0.1,\n",
    "        transform=ccrs.Geodetic(), # Define coordinate system to be used\n",
    "    )"
   ]
  }
 ],
 "metadata": {
  "kernelspec": {
   "display_name": "Python 3",
   "language": "python",
   "name": "python3"
  },
  "language_info": {
   "codemirror_mode": {
    "name": "ipython",
    "version": 3
   },
   "file_extension": ".py",
   "mimetype": "text/x-python",
   "name": "python",
   "nbconvert_exporter": "python",
   "pygments_lexer": "ipython3",
   "version": "3.10.13"
  }
 },
 "nbformat": 4,
 "nbformat_minor": 2
}
