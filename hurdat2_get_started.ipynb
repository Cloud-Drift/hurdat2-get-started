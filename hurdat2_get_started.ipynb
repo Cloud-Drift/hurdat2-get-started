{
 "cells": [
  {
   "cell_type": "markdown",
   "metadata": {},
   "source": [
    "## Hurdat2, Get Started!\n",
    "In the following example we will walk through how we can leverage the `clouddrift` library to plot storm trajectories for the 2022 hurricane season.\n",
    "\n",
    "Lets proceed with loading in the dataset and selecting the subset of data we want to plot."
   ]
  },
  {
   "cell_type": "code",
   "execution_count": null,
   "metadata": {},
   "outputs": [],
   "source": [
    "import  numpy as np\n",
    "\n",
    "from clouddrift.datasets import hurdat2\n",
    "from clouddrift.ragged import subset\n",
    "year = 2022\n",
    "ds = hurdat2(basin=\"atlantic\")\n",
    "ds = subset(\n",
    "    ds,\n",
    "    {\"time\": (np.datetime64(f\"{year}-01-01\"), np.datetime64(f\"{year}-12-31\"))},\n",
    "    row_dim_name=\"traj\",\n",
    ")"
   ]
  },
  {
   "cell_type": "markdown",
   "metadata": {},
   "source": [
    "Now lets unpack the ragged array for the longituide and latitude observations for the storm trajectories. The unpack function will return the array segmented using the rowsize of each trajectory resulting in a list of row data variable segments."
   ]
  },
  {
   "cell_type": "code",
   "execution_count": null,
   "metadata": {},
   "outputs": [],
   "source": [
    "from clouddrift.ragged import unpack\n",
    "\n",
    "lons = unpack(ds.lon, ds.rowsize)\n",
    "lats = unpack(ds.lat, ds.rowsize)"
   ]
  },
  {
   "cell_type": "markdown",
   "metadata": {},
   "source": [
    "Lets now plot the trajectories."
   ]
  },
  {
   "cell_type": "code",
   "execution_count": null,
   "metadata": {},
   "outputs": [],
   "source": [
    "import matplotlib.pyplot as plt\n",
    "import cartopy.crs as ccrs\n",
    "\n",
    "\n",
    "fig = plt.figure()\n",
    "ax = fig.add_subplot(1, 1, 1, projection=ccrs.PlateCarree())\n",
    "\n",
    "for idx in range(len(ds.id)):\n",
    "    ax.plot(lons[idx], lats[idx])\n",
    "\n",
    "ax.set_title(f\"Hurricane Season {year}\")\n",
    "ax.coastlines()"
   ]
  }
 ],
 "metadata": {
  "kernelspec": {
   "display_name": "hurdat2-get-started",
   "language": "python",
   "name": "python3"
  },
  "language_info": {
   "codemirror_mode": {
    "name": "ipython",
    "version": 3
   },
   "file_extension": ".py",
   "mimetype": "text/x-python",
   "name": "python",
   "nbconvert_exporter": "python",
   "pygments_lexer": "ipython3",
   "version": "3.10.14"
  }
 },
 "nbformat": 4,
 "nbformat_minor": 2
}
