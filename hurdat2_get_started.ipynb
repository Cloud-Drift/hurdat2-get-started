{
 "cells": [
  {
   "cell_type": "code",
   "execution_count": null,
   "metadata": {},
   "outputs": [],
   "source": [
    "from datetime import datetime\n",
    "\n",
    "import cartopy.crs as ccrs\n",
    "import matplotlib.pyplot as plt\n",
    "import numpy as np\n",
    "\n",
    "from clouddrift import adapters, ragged"
   ]
  },
  {
   "cell_type": "code",
   "execution_count": null,
   "metadata": {},
   "outputs": [],
   "source": [
    "def plot_trajectories(ds, linestyle):\n",
    "    obs_ranges = np.cumsum(np.array([0, *ds[\"rowsize\"]]))\n",
    "    traj_ids = ds[\"id\"].to_numpy().tolist()\n",
    "    for traj_id in traj_ids:\n",
    "        index = traj_ids.index(traj_id)\n",
    "        start, end = obs_ranges[index], obs_ranges[index+1]\n",
    "        selected = slice(start, end)\n",
    "        \n",
    "        plt.plot(\n",
    "            ds[\"lon\"].isel(obs=selected), ds[\"lat\"].isel(obs=selected),\n",
    "            linestyle=linestyle, ms=0.1,\n",
    "            transform=ccrs.Geodetic(),\n",
    "        )\n",
    "\n",
    "# Plot the storms on the projection after applying the geodetic transformation\n",
    "ax = plt.axes(projection=ccrs.PlateCarree())\n",
    "ax.coastlines()\n",
    "\n",
    "hurdat_ds = adapters.hurdat2.to_raggedarray().to_xarray()\n",
    "gdp1h_ds = adapters.gdp1h.to_raggedarray(n_random_id=100).to_xarray()\n",
    "criteria = dict(\n",
    "    lat=(10, 50), \n",
    "    lon=(-80, -20), \n",
    "    time=(\n",
    "        np.float64(datetime(2020, 8, 1).timestamp()), \n",
    "        np.float64(datetime(2020, 10, 1).timestamp())\n",
    "    )\n",
    ")\n",
    "\n",
    "hurdat_ds = ragged.subset(hurdat_ds, criteria)\n",
    "plot_trajectories(hurdat_ds, \"-\")"
   ]
  }
 ],
 "metadata": {
  "kernelspec": {
   "display_name": "Python 3",
   "language": "python",
   "name": "python3"
  },
  "language_info": {
   "codemirror_mode": {
    "name": "ipython",
    "version": 3
   },
   "file_extension": ".py",
   "mimetype": "text/x-python",
   "name": "python",
   "nbconvert_exporter": "python",
   "pygments_lexer": "ipython3",
   "version": "3.10.13"
  }
 },
 "nbformat": 4,
 "nbformat_minor": 2
}
