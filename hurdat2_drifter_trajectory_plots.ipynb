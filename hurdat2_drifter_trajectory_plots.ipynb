{
 "cells": [
  {
   "cell_type": "markdown",
   "metadata": {},
   "source": [
    "# Plotting HURDAT2 Storms Alongside Drifter Tracks\n",
    "\n",
    "In this notebook we will walk through how we can use the [`clouddrift`](https://github.com/Cloud-Drift/clouddrift) library to plot NOAA GDP drifter tracks colored by sea surface temperature, alongside storm tracks from the HURDAT2 dataset, with both datasets directly available from the library. HURDAT2 is a dataset that contains storm track data (including pressure, wind speed, etc...) for the time period 1852 to 2022, both from the North Pacific and North Atlantic ocean basins. The HURDAT2 dataset is originally available from [NOAA AOML](https://www.aoml.noaa.gov/hrd/hurdat/Data_Storm.html), and such is the [NOAA GDP dataset](https://www.aoml.noaa.gov/phod/gdp/index.php).\n",
    "\n",
    "This notebook proceeds in steps by:\n",
    "\n",
    " 0. Access and open the necessary datasets\n",
    " 1. Subset these datasets by selecting their data for a given year and region\n",
    " 2. Create the base plot where we will plot and update the storm and drifter trajectories\n",
    " 3. Generate an animation showing as a function of time the selected data."
   ]
  },
  {
   "cell_type": "markdown",
   "metadata": {},
   "source": [
    "### 0. Dataset imports\n",
    "\n",
    "We access and open as an xarray dataset a ragged array version of the [six-hourly NOAA Global Drifter Program dataset](https://www.aoml.noaa.gov/phod/gdp/interpolated/data/all.php) which is hosted as an experiment in an AWS S3 bucket. Please consult the webpage of the dataset to investigate alternative ways of accessing these data. Below we also provide a couple of alternative ways of accessing these data. "
   ]
  },
  {
   "cell_type": "code",
   "execution_count": null,
   "metadata": {},
   "outputs": [],
   "source": [
    "# dataset URL on the AWS S3 bucket:\n",
    "import xarray as xr\n",
    "\n",
    "url = \"https://noaa-oar-hourly-gdp-pds.s3.amazonaws.com/experimental/gdp6h_ragged_sep23.zarr\"\n",
    "drifter_ds = xr.open_dataset(url, decode_times=True, engine=\"zarr\")\n",
    "\n",
    "# alternatively, access the ragged array 6-hourly dataset from the AOML website via the clouddrift API with the following command:\n",
    "# drifter_ds = cd.datasets.gdp6h()\n",
    "\n",
    "# alternatively, access the individual netcdf files from the AOML FTP server and aggegrate locally these data into a ragged array dataset via the cloudrift API with the following command:\n",
    "# drifter_ds = cd.adapters.gdp6h.to_raggedarray().to_xarray()\n",
    "\n",
    "drifter_ds"
   ]
  },
  {
   "cell_type": "markdown",
   "metadata": {},
   "source": [
    "Next we access the HURDAT2 dataset directly using the clouddrift API. The command below looks for the dataset locally and if it is not found the original data are downloaded and aggregated into a ragged array dataset which is then opened as an xarray dataset."
   ]
  },
  {
   "cell_type": "code",
   "execution_count": null,
   "metadata": {},
   "outputs": [],
   "source": [
    "from clouddrift.datasets import hurdat2\n",
    "\n",
    "storm_ds = hurdat2(decode_times=True)\n",
    "storm_ds"
   ]
  },
  {
   "cell_type": "markdown",
   "metadata": {},
   "source": [
    "### 1. Subsample the datasets\n",
    "\n",
    "Next we select specific subsets of the opened datasets. For this, we use the clouddrift `subset` function provided through the `ragged` module which contains helpful utility functions for working with ragged array data structures. Here we choose to subset storms whose track lied within the Atlantic Ocean near the east coast of North America and was observed between August and October of 2020 (feel free to change any of this selection when running this notebook).  The `subset` function requires to define a criteria as a dictionary as follows:"
   ]
  },
  {
   "cell_type": "code",
   "execution_count": null,
   "metadata": {},
   "outputs": [],
   "source": [
    "import numpy as np\n",
    "from datetime import datetime\n",
    "\n",
    "# define a time range\n",
    "year = 2017\n",
    "start_dt, end_dt = (\n",
    "    np.datetime64(int(datetime(year, 8, 1).timestamp()), \"s\"), \n",
    "    np.datetime64(int(datetime(year, 11, 1).timestamp()), \"s\")\n",
    ")\n",
    "# define the criteria for the drifter and storm datasets; please note that the times are encoding differently in the two datasets and as such we need to specify the time range differently for each criteria.\n",
    "\n",
    "criteria = dict(\n",
    "    lat=(10, 60),\n",
    "    lon=(-90, -20), \n",
    "    time=(start_dt, end_dt)\n",
    ")"
   ]
  },
  {
   "cell_type": "markdown",
   "metadata": {},
   "source": [
    "We can now use the `subset` function and apply the criteria to both datasets. The `subset` function requires to provide the name of the *row* dimension for the ragged array datasets (see the [clouddrift documentation](https://clouddrift.org)), which is `traj` in both cases."
   ]
  },
  {
   "cell_type": "code",
   "execution_count": null,
   "metadata": {},
   "outputs": [],
   "source": [
    "from clouddrift.ragged import subset\n",
    "\n",
    "matching_storms = subset(storm_ds, criteria, row_dim_name=\"traj\")\n",
    "matching_storms"
   ]
  },
  {
   "cell_type": "code",
   "execution_count": null,
   "metadata": {},
   "outputs": [],
   "source": [
    "matching_drifters = subset(drifter_ds, criteria, row_dim_name=\"traj\")\n",
    "matching_drifters"
   ]
  },
  {
   "cell_type": "markdown",
   "metadata": {},
   "source": [
    "### 2. Setup the Plot.\n",
    "\n",
    "Subsetting the datasets above, you should have found roughly 10-20 storms and 200-300 drifters. We will now proceed to create a map and an animation to visualize the selected data."
   ]
  },
  {
   "cell_type": "code",
   "execution_count": null,
   "metadata": {},
   "outputs": [],
   "source": [
    "import matplotlib.pyplot as plt\n",
    "import cartopy.crs as ccrs\n",
    "\n",
    "# create a blank figure with the desired size and resolution\n",
    "DPI = 384\n",
    "fig = plt.figure(figsize=(7.75, 4.75), dpi=DPI)"
   ]
  },
  {
   "cell_type": "markdown",
   "metadata": {},
   "source": [
    "Lets have a look at the selected storms and see what they look like. You can modify the criteria above and rerun the cell below to get an idea of the storm trajectories that matched our query."
   ]
  },
  {
   "cell_type": "code",
   "execution_count": null,
   "metadata": {},
   "outputs": [],
   "source": [
    "from clouddrift.plotting import plot_ragged\n",
    "\n",
    "ax = fig.add_subplot(1, 1, 1, projection=ccrs.Mollweide())\n",
    "l = plot_ragged(\n",
    "    ax,\n",
    "    matching_storms.lon,\n",
    "    matching_storms.lat,\n",
    "    matching_storms.rowsize,\n",
    "    transform=ccrs.PlateCarree(),\n",
    ")\n",
    "\n",
    "ax.coastlines()\n",
    "ax.gridlines(draw_labels=True)\n",
    "ax.set_extent([-100, 0, 0, 80], crs=ccrs.PlateCarree())\n",
    "fig"
   ]
  },
  {
   "cell_type": "markdown",
   "metadata": {},
   "source": [
    "We can also take a look into the drifters we've selected. As above, you can modify the criteria above and rerun the cell below to get an idea of the drifter trajectories that matched our query."
   ]
  },
  {
   "cell_type": "code",
   "execution_count": null,
   "metadata": {},
   "outputs": [],
   "source": [
    "from clouddrift.plotting import plot_ragged\n",
    "\n",
    "ax = fig.add_subplot(1, 1, 1, projection=ccrs.Mollweide())\n",
    "l = plot_ragged(\n",
    "    ax,\n",
    "    matching_drifters.lon,\n",
    "    matching_drifters.lat,\n",
    "    matching_drifters.rowsize,\n",
    "    transform=ccrs.PlateCarree(),\n",
    ")\n",
    "\n",
    "ax.set_extent([-100, 0, 0, 80], crs=ccrs.PlateCarree())\n",
    "ax.coastlines()\n",
    "fig"
   ]
  },
  {
   "cell_type": "markdown",
   "metadata": {},
   "source": [
    "Lets now setup the plot were going to use for the animation."
   ]
  },
  {
   "cell_type": "code",
   "execution_count": null,
   "metadata": {},
   "outputs": [],
   "source": [
    "DPI = 384\n",
    "fig = plt.figure(figsize=(7.75, 4.75), dpi=DPI)\n",
    "ax = fig.add_subplot(1, 1, 1, projection=ccrs.Mollweide())\n",
    "ax.coastlines()\n",
    "ax.set_extent([-100, 0, 0, 80], crs=ccrs.PlateCarree())\n",
    "datetime_label = ax.text(-115, 40, np.datetime_as_string(start_dt, \"s\"),\n",
    "    fontsize=10, \n",
    "    color=\"red\", \n",
    "    transform=ccrs.PlateCarree(), \n",
    "    bbox=dict(facecolor=\"white\", alpha=0.5, edgecolor=\"none\")\n",
    ")\n",
    "ax.set_title(\"Hurricane Season \"+str(year))"
   ]
  },
  {
   "cell_type": "markdown",
   "metadata": {},
   "source": [
    "To generate the animation we need to work on the data of each individual storm and each individual drifter. Because these datasets are organized as ragged arrays, we use the clouddrift `unpack` function to generate lists of data. The `unpack` function takes as arguments a ragged array input and a *rowsize* variable that indicates the size of each row of the ragged array."
   ]
  },
  {
   "cell_type": "code",
   "execution_count": null,
   "metadata": {},
   "outputs": [],
   "source": [
    "from clouddrift.ragged import unpack\n",
    "\n",
    "# unpack the lat and lon data for the storms\n",
    "storm_lons = unpack(matching_storms.lon, matching_storms.rowsize)\n",
    "storm_lats = unpack(matching_storms.lat, matching_storms.rowsize)\n",
    "\n",
    "# unpack the lat, lon, and sst data for the drifters\n",
    "drifter_lons = unpack(matching_drifters.lon, matching_drifters.rowsize)\n",
    "drifter_lats = unpack(matching_drifters.lat, matching_drifters.rowsize)\n",
    "drifter_temps = unpack(matching_drifters.temp, matching_drifters.rowsize)"
   ]
  },
  {
   "cell_type": "markdown",
   "metadata": {},
   "source": [
    "Using the index of each individual trajectory (storm and drifter) we retrieve its associated data variable segment of the lon, lat and temp ragged array data variables.\n",
    "\n",
    "Using these segments we create an initial plot of each trajectory. All plotted lines/trajectories are stored alongside their associated data variable segments.\n",
    "\n",
    "This is so that we can update the line/trajectories in the animation we want to create."
   ]
  },
  {
   "cell_type": "code",
   "execution_count": null,
   "metadata": {},
   "outputs": [],
   "source": [
    "storm_lines = list()\n",
    "drifter_lines = list()\n",
    "\n",
    "\n",
    "for storm_idx, _ in enumerate(matching_storms.id):\n",
    "    selected_lon, selected_lat = storm_lons[storm_idx], storm_lats[storm_idx]\n",
    "    selected_lon, selected_lat = selected_lon.set_xindex(\"time\"), selected_lat.set_xindex(\"time\")\n",
    "    line = ax.plot(selected_lon[0], selected_lat[0],\n",
    "        linestyle=\"-\", linewidth=3,\n",
    "        transform=ccrs.PlateCarree(),\n",
    "    )\n",
    "    storm_lines.append((selected_lon, selected_lat, line[0]))\n",
    "\n",
    "for drifter_idx, _ in enumerate(matching_drifters.id):\n",
    "    selected_lon, selected_lat, selected_temp = drifter_lons[drifter_idx], drifter_lats[drifter_idx], drifter_temps[drifter_idx]\n",
    "    selected_lon, selected_lat, selected_temp = (selected_lon.set_xindex(\"time\"), selected_lat.set_xindex(\"time\"), selected_temp.set_xindex(\"time\"))\n",
    "    line = ax.plot(selected_lon[0], selected_lat[0],\n",
    "        linestyle=\"-\", linewidth=1,\n",
    "        transform=ccrs.PlateCarree(),\n",
    "    )\n",
    "    drifter_lines.append((selected_lon, selected_lat, selected_temp, line[0]))"
   ]
  },
  {
   "cell_type": "markdown",
   "metadata": {},
   "source": [
    "Let's now find the upper and lower bounds for the temperature values being plotted. We'll use this to create a colormap to color the drifter trajectories. "
   ]
  },
  {
   "cell_type": "code",
   "execution_count": null,
   "metadata": {},
   "outputs": [],
   "source": [
    "import matplotlib.colors as colors\n",
    "\n",
    "# find the min and max temperature for the colorscale/colormap\n",
    "min_t = np.nanmin([np.nanmin(temp) for (_, _, temp, _) in drifter_lines])\n",
    "max_t = np.nanmax([np.nanmax(temp) for (_, _, temp, _) in drifter_lines])\n",
    "\n",
    "cmap = plt.get_cmap(\"inferno\")\n",
    "norm = colors.Normalize(vmin=min_t, vmax=max_t)"
   ]
  },
  {
   "cell_type": "markdown",
   "metadata": {},
   "source": [
    "We can now add the legend for the colorbar:"
   ]
  },
  {
   "cell_type": "code",
   "execution_count": null,
   "metadata": {},
   "outputs": [],
   "source": [
    "import matplotlib.cm as cm\n",
    "from mpl_toolkits.axes_grid1 import make_axes_locatable\n",
    "\n",
    "divider = make_axes_locatable(ax)\n",
    "cax = divider.append_axes('right', size=\"3%\", pad=0.75, axes_class=plt.Axes)\n",
    "fig.colorbar(cm.ScalarMappable(norm=norm, cmap=cmap), cax=cax, label=\"temperature (K)\")\n",
    "fig"
   ]
  },
  {
   "cell_type": "markdown",
   "metadata": {},
   "source": [
    "### 3. Generate the Animation\n",
    "\n",
    "To generate an animation we will need separate discrete frames each of which we associate with a datetime. \n",
    "\n",
    "Let's take the start and end datetime we've used for the `subset` criteria and generate an range of values that each map uniquely to the number of frames we want to generate."
   ]
  },
  {
   "cell_type": "code",
   "execution_count": null,
   "metadata": {},
   "outputs": [],
   "source": [
    "frame_count = 500\n",
    "daterange = np.arange(start_dt, end_dt, (end_dt - start_dt)/frame_count)\n",
    "daterange[:10]"
   ]
  },
  {
   "cell_type": "markdown",
   "metadata": {},
   "source": [
    "Lets now define the update function which will help us generate the animation. \n",
    "\n",
    "Since each individual frame has a datetime associated to it we leverage this as the end datetime when selecting the trajectories that will be plotted for the frame. We use the `start_dt` defined during the `subset` criteria definition as the start of the range we are selecting.\n",
    "\n",
    "Using the storm and drifter plots we iterate through each of them and update their plotted lon and lat values. \n",
    "\n",
    "For the drifter trajectories we plot, we color them by taking the mean temperature of the last 4 observations (rough daily average). We also only plot a maximum of 20 observations."
   ]
  },
  {
   "cell_type": "code",
   "execution_count": null,
   "metadata": {},
   "outputs": [],
   "source": [
    "import matplotlib.animation as animation\n",
    "\n",
    "def update(frame_idx):\n",
    "    tail_len = 20\n",
    "    frame_dt = daterange[frame_idx]\n",
    "\n",
    "    datetime_label.set_text(np.datetime_as_string(frame_dt, \"s\"))\n",
    "    \n",
    "\n",
    "    if (frame_idx == 0 or (frame_idx+1) % 100 == 0):\n",
    "        print(f\"generating index: {frame_idx}\")\n",
    "\n",
    "    updated_lines = list()\n",
    "    for lon, lat, line in storm_lines:\n",
    "        sel_lon = lon.sel(time=slice(start_dt, frame_dt))\n",
    "        sel_lat = lat.sel(time=slice(start_dt, frame_dt))\n",
    "        line.set_xdata(sel_lon)\n",
    "        line.set_ydata(sel_lat)\n",
    "        updated_lines.append(line)\n",
    "\n",
    "    for lon, lat, temp, line, in drifter_lines:\n",
    "        sel_lon = lon.sel(\n",
    "            time=slice(start_dt, frame_dt)\n",
    "        ).tail(obs=tail_len)\n",
    "        sel_lat = lat.sel(\n",
    "            time=slice(start_dt, frame_dt)\n",
    "        ).tail(obs=tail_len)\n",
    "        sel_temp = temp.sel(\n",
    "            time=slice(start_dt, frame_dt)\n",
    "        ).tail(obs=4)\n",
    "\n",
    "        line.set_xdata(sel_lon)\n",
    "        line.set_ydata(sel_lat)\n",
    "        line.set_color(cmap(norm(np.nanmean(sel_temp))))\n",
    "\n",
    "        updated_lines.append(line)\n",
    "    return updated_lines\n",
    "\n",
    "ani = animation.FuncAnimation(fig=fig, func=update, frames=frame_count, interval=50)"
   ]
  },
  {
   "cell_type": "markdown",
   "metadata": {},
   "source": [
    "Finally, let's generate the animation!"
   ]
  },
  {
   "cell_type": "code",
   "execution_count": null,
   "metadata": {},
   "outputs": [],
   "source": [
    "import warnings\n",
    "warnings.filterwarnings(\"ignore\") # bad practice and should never be used but helps us keep the output clean and should only ever be used in experimental/sample code.\n",
    "\n",
    "ani.save(\"storm_drifters.gif\", dpi=DPI)"
   ]
  },
  {
   "cell_type": "markdown",
   "metadata": {},
   "source": [
    "Your working directory should now contains the `storm_drifters.gif` file. Enjoy!"
   ]
  }
 ],
 "metadata": {
  "kernelspec": {
   "display_name": "Python 3 (ipykernel)",
   "language": "python",
   "name": "python3"
  },
  "language_info": {
   "codemirror_mode": {
    "name": "ipython",
    "version": 3
   },
   "file_extension": ".py",
   "mimetype": "text/x-python",
   "name": "python",
   "nbconvert_exporter": "python",
   "pygments_lexer": "ipython3",
   "version": "3.10.14"
  }
 },
 "nbformat": 4,
 "nbformat_minor": 4
}
